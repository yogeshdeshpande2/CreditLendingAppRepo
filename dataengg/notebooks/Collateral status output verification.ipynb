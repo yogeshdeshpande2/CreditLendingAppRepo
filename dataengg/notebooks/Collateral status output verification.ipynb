{
 "cells": [
  {
   "cell_type": "markdown",
   "metadata": {
    "application/vnd.databricks.v1+cell": {
     "cellMetadata": {
      "byteLimit": 2048000,
      "rowLimit": 10000
     },
     "inputWidgets": {},
     "nuid": "88e53c91-ceb2-4c57-88a4-9fb47dfa4c28",
     "showTitle": false,
     "title": ""
    }
   },
   "source": [
    "### Libraries"
   ]
  },
  {
   "cell_type": "code",
   "execution_count": 0,
   "metadata": {
    "application/vnd.databricks.v1+cell": {
     "cellMetadata": {
      "byteLimit": 2048000,
      "rowLimit": 10000
     },
     "inputWidgets": {},
     "nuid": "a090b2e6-d40a-4f74-91eb-07130e46e27e",
     "showTitle": false,
     "title": ""
    }
   },
   "outputs": [],
   "source": [
    "from pyspark.sql import functions as psf\n",
    "import pandas as pd"
   ]
  },
  {
   "cell_type": "markdown",
   "metadata": {
    "application/vnd.databricks.v1+cell": {
     "cellMetadata": {
      "byteLimit": 2048000,
      "rowLimit": 10000
     },
     "inputWidgets": {},
     "nuid": "53bdefb0-d62a-4934-8602-755ffaf0ed98",
     "showTitle": false,
     "title": ""
    }
   },
   "source": [
    "### Target: bronze container"
   ]
  },
  {
   "cell_type": "code",
   "execution_count": 0,
   "metadata": {
    "application/vnd.databricks.v1+cell": {
     "cellMetadata": {
      "byteLimit": 2048000,
      "rowLimit": 10000
     },
     "inputWidgets": {},
     "nuid": "76d2b281-a1da-461d-a85c-075d6ee1225a",
     "showTitle": false,
     "title": ""
    }
   },
   "outputs": [
    {
     "output_type": "display_data",
     "data": {
      "text/html": [
       "<style scoped>\n",
       "  .table-result-container {\n",
       "    max-height: 300px;\n",
       "    overflow: auto;\n",
       "  }\n",
       "  table, th, td {\n",
       "    border: 1px solid black;\n",
       "    border-collapse: collapse;\n",
       "  }\n",
       "  th, td {\n",
       "    padding: 5px;\n",
       "  }\n",
       "  th {\n",
       "    text-align: left;\n",
       "  }\n",
       "</style><div class='table-result-container'><table class='table-result'><thead style='background-color: white'><tr><th>client_id</th><th>first_name</th><th>last_name</th><th>email</th><th>phone</th><th>address1</th><th>address2</th><th>city</th><th>zipcode</th><th>corporate_name</th><th>role</th><th>income_type</th><th>income</th></tr></thead><tbody><tr><td>1</td><td>Person1_first</td><td>Person1_last</td><td>Person1@email.com</td><td>111-111-1111</td><td>Gustav Mahlerlaan</td><td>100</td><td>Amsterdam</td><td>1082 PP</td><td>ABN</td><td>Developer</td><td>salaried</td><td>5000</td></tr><tr><td>2</td><td>Person2_first</td><td>Person2_last</td><td>Person2@email.com</td><td>222-222-2222</td><td>Gustav Mahlerlaan</td><td>100</td><td>Amsterdam</td><td>1082 PP</td><td>ABN</td><td>Chapter Lead</td><td>salaried</td><td>5000</td></tr><tr><td>3</td><td>Person3_first</td><td>Person3_last</td><td>Person3@email.com</td><td>333-333-3333</td><td>Gustav Mahlerlaan</td><td>100</td><td>Amsterdam</td><td>1082 PP</td><td>ABN</td><td>Data Engineer</td><td>salaried</td><td>5000</td></tr><tr><td>4</td><td>Person4_first</td><td>Person4_last</td><td>Person4@email.com</td><td>444-444-4444</td><td>Gustav Mahlerlaan</td><td>100</td><td>Amsterdam</td><td>1082 PP</td><td>ABN</td><td>DevOps Engineer</td><td>salaried</td><td>5000</td></tr><tr><td>5</td><td>Person5_first</td><td>Person5_last</td><td>Person5@email.com</td><td>555-555-5555</td><td>Gustav Mahlerlaan</td><td>300</td><td>Amsterdam</td><td>1082 PP</td><td>RABO</td><td>Developer</td><td>salaried</td><td>5000</td></tr><tr><td>6</td><td>Person6_first</td><td>Person6_last</td><td>Person6@email.com</td><td>666-666-6666</td><td>Gustav Mahlerlaan</td><td>300</td><td>Amsterdam</td><td>1082 PP</td><td>RABO</td><td>Chapter Lead</td><td>salaried</td><td>-2000</td></tr><tr><td>7</td><td>Person7_first</td><td>Person7_last</td><td>Person7@email.com</td><td>777-777-7777</td><td>Gustav Mahlerlaan</td><td>300</td><td>Amsterdam</td><td>1082 PP</td><td>RABO</td><td>Data Engineer</td><td>salaried</td><td>-1000</td></tr><tr><td>8</td><td>Person8_first</td><td>Person8_last</td><td>Person8@email.com</td><td>888-888-8888</td><td>Gustav Mahlerlaan</td><td>100</td><td>Amsterdam</td><td>1082 PP</td><td>ING</td><td>DevOps Engineer</td><td>legacy</td><td>5000</td></tr></tbody></table></div>"
      ]
     },
     "metadata": {
      "application/vnd.databricks.v1+output": {
       "addedWidgets": {},
       "aggData": [],
       "aggError": "",
       "aggOverflow": false,
       "aggSchema": [],
       "aggSeriesLimitReached": false,
       "aggType": "",
       "arguments": {},
       "columnCustomDisplayInfos": {},
       "data": [
        [
         1,
         "Person1_first",
         "Person1_last",
         "Person1@email.com",
         "111-111-1111",
         "Gustav Mahlerlaan",
         "100",
         "Amsterdam",
         "1082 PP",
         "ABN",
         "Developer",
         "salaried",
         "5000"
        ],
        [
         2,
         "Person2_first",
         "Person2_last",
         "Person2@email.com",
         "222-222-2222",
         "Gustav Mahlerlaan",
         "100",
         "Amsterdam",
         "1082 PP",
         "ABN",
         "Chapter Lead",
         "salaried",
         "5000"
        ],
        [
         3,
         "Person3_first",
         "Person3_last",
         "Person3@email.com",
         "333-333-3333",
         "Gustav Mahlerlaan",
         "100",
         "Amsterdam",
         "1082 PP",
         "ABN",
         "Data Engineer",
         "salaried",
         "5000"
        ],
        [
         4,
         "Person4_first",
         "Person4_last",
         "Person4@email.com",
         "444-444-4444",
         "Gustav Mahlerlaan",
         "100",
         "Amsterdam",
         "1082 PP",
         "ABN",
         "DevOps Engineer",
         "salaried",
         "5000"
        ],
        [
         5,
         "Person5_first",
         "Person5_last",
         "Person5@email.com",
         "555-555-5555",
         "Gustav Mahlerlaan",
         "300",
         "Amsterdam",
         "1082 PP",
         "RABO",
         "Developer",
         "salaried",
         "5000"
        ],
        [
         6,
         "Person6_first",
         "Person6_last",
         "Person6@email.com",
         "666-666-6666",
         "Gustav Mahlerlaan",
         "300",
         "Amsterdam",
         "1082 PP",
         "RABO",
         "Chapter Lead",
         "salaried",
         "-2000"
        ],
        [
         7,
         "Person7_first",
         "Person7_last",
         "Person7@email.com",
         "777-777-7777",
         "Gustav Mahlerlaan",
         "300",
         "Amsterdam",
         "1082 PP",
         "RABO",
         "Data Engineer",
         "salaried",
         "-1000"
        ],
        [
         8,
         "Person8_first",
         "Person8_last",
         "Person8@email.com",
         "888-888-8888",
         "Gustav Mahlerlaan",
         "100",
         "Amsterdam",
         "1082 PP",
         "ING",
         "DevOps Engineer",
         "legacy",
         "5000"
        ]
       ],
       "datasetInfos": [],
       "dbfsResultPath": null,
       "isJsonSchema": true,
       "metadata": {},
       "overflow": false,
       "plotOptions": {
        "customPlotOptions": {},
        "displayType": "table",
        "pivotAggregation": null,
        "pivotColumns": null,
        "xColumns": null,
        "yColumns": null
       },
       "removedWidgets": [],
       "schema": [
        {
         "metadata": "{}",
         "name": "client_id",
         "type": "\"integer\""
        },
        {
         "metadata": "{}",
         "name": "first_name",
         "type": "\"string\""
        },
        {
         "metadata": "{}",
         "name": "last_name",
         "type": "\"string\""
        },
        {
         "metadata": "{}",
         "name": "email",
         "type": "\"string\""
        },
        {
         "metadata": "{}",
         "name": "phone",
         "type": "\"string\""
        },
        {
         "metadata": "{}",
         "name": "address1",
         "type": "\"string\""
        },
        {
         "metadata": "{}",
         "name": "address2",
         "type": "\"string\""
        },
        {
         "metadata": "{}",
         "name": "city",
         "type": "\"string\""
        },
        {
         "metadata": "{}",
         "name": "zipcode",
         "type": "\"string\""
        },
        {
         "metadata": "{}",
         "name": "corporate_name",
         "type": "\"string\""
        },
        {
         "metadata": "{}",
         "name": "role",
         "type": "\"string\""
        },
        {
         "metadata": "{}",
         "name": "income_type",
         "type": "\"string\""
        },
        {
         "metadata": "{}",
         "name": "income",
         "type": "\"string\""
        }
       ],
       "type": "table"
      }
     },
     "output_type": "display_data"
    },
    {
     "output_type": "display_data",
     "data": {
      "text/html": [
       "<style scoped>\n",
       "  .table-result-container {\n",
       "    max-height: 300px;\n",
       "    overflow: auto;\n",
       "  }\n",
       "  table, th, td {\n",
       "    border: 1px solid black;\n",
       "    border-collapse: collapse;\n",
       "  }\n",
       "  th, td {\n",
       "    padding: 5px;\n",
       "  }\n",
       "  th {\n",
       "    text-align: left;\n",
       "  }\n",
       "</style><div class='table-result-container'><table class='table-result'><thead style='background-color: white'><tr><th>client_id</th><th>savings</th><th>cars</th><th>stocks</th><th>balance</th></tr></thead><tbody><tr><td>1</td><td>21000</td><td>Toyota Camry;Honda Civic</td><td>AAPL,GOOGL,MSFT</td><td>30000</td></tr><tr><td>2</td><td>22000</td><td>Ford Mustang</td><td>TSLA,MSFT</td><td>31000</td></tr><tr><td>3</td><td>23000</td><td>Jeep Wrangler</td><td>FB,AAPL</td><td>32000</td></tr><tr><td>4</td><td>1000</td><td>Tesla Model S; BMW X5</td><td>FB</td><td>330000</td></tr><tr><td>5</td><td>20000</td><td>Subaru Outback; Jeep Wrangler</td><td>GOOGL,MSFT</td><td>34000</td></tr><tr><td>6</td><td>33000</td><td>Honda Civic</td><td>MSFT</td><td>35000</td></tr><tr><td>7</td><td>1000</td><td>Tesla Model S</td><td>GOOGL</td><td>38000</td></tr><tr><td>8</td><td>35000</td><td>Subaru Outback</td><td>MSFT</td><td>40000</td></tr></tbody></table></div>"
      ]
     },
     "metadata": {
      "application/vnd.databricks.v1+output": {
       "addedWidgets": {},
       "aggData": [],
       "aggError": "",
       "aggOverflow": false,
       "aggSchema": [],
       "aggSeriesLimitReached": false,
       "aggType": "",
       "arguments": {},
       "columnCustomDisplayInfos": {},
       "data": [
        [
         "1",
         "21000",
         "Toyota Camry;Honda Civic",
         "AAPL,GOOGL,MSFT",
         "30000"
        ],
        [
         "2",
         "22000",
         "Ford Mustang",
         "TSLA,MSFT",
         "31000"
        ],
        [
         "3",
         "23000",
         "Jeep Wrangler",
         "FB,AAPL",
         "32000"
        ],
        [
         "4",
         "1000",
         "Tesla Model S; BMW X5",
         "FB",
         "330000"
        ],
        [
         "5",
         "20000",
         "Subaru Outback; Jeep Wrangler",
         "GOOGL,MSFT",
         "34000"
        ],
        [
         "6",
         "33000",
         "Honda Civic",
         "MSFT",
         "35000"
        ],
        [
         "7",
         "1000",
         "Tesla Model S",
         "GOOGL",
         "38000"
        ],
        [
         "8",
         "35000",
         "Subaru Outback",
         "MSFT",
         "40000"
        ]
       ],
       "datasetInfos": [],
       "dbfsResultPath": null,
       "isJsonSchema": true,
       "metadata": {},
       "overflow": false,
       "plotOptions": {
        "customPlotOptions": {},
        "displayType": "table",
        "pivotAggregation": null,
        "pivotColumns": null,
        "xColumns": null,
        "yColumns": null
       },
       "removedWidgets": [],
       "schema": [
        {
         "metadata": "{}",
         "name": "client_id",
         "type": "\"string\""
        },
        {
         "metadata": "{}",
         "name": "savings",
         "type": "\"string\""
        },
        {
         "metadata": "{}",
         "name": "cars",
         "type": "\"string\""
        },
        {
         "metadata": "{}",
         "name": "stocks",
         "type": "\"string\""
        },
        {
         "metadata": "{}",
         "name": "balance",
         "type": "\"string\""
        }
       ],
       "type": "table"
      }
     },
     "output_type": "display_data"
    },
    {
     "output_type": "display_data",
     "data": {
      "text/html": [
       "<style scoped>\n",
       "  .table-result-container {\n",
       "    max-height: 300px;\n",
       "    overflow: auto;\n",
       "  }\n",
       "  table, th, td {\n",
       "    border: 1px solid black;\n",
       "    border-collapse: collapse;\n",
       "  }\n",
       "  th, td {\n",
       "    padding: 5px;\n",
       "  }\n",
       "  th {\n",
       "    text-align: left;\n",
       "  }\n",
       "</style><div class='table-result-container'><table class='table-result'><thead style='background-color: white'><tr><th>stock</th><th>Date</th><th>price</th></tr></thead><tbody><tr><td>AAPL</td><td>2024-02-18</td><td>278.21</td></tr><tr><td>AAPL</td><td>2024-02-19</td><td>277.48</td></tr><tr><td>AAPL</td><td>2024-02-20</td><td>288.82</td></tr><tr><td>AAPL</td><td>2024-02-21</td><td>289.59</td></tr><tr><td>AAPL</td><td>2024-02-22</td><td>290.52</td></tr><tr><td>AAPL</td><td>2024-02-23</td><td>291.54</td></tr><tr><td>AAPL</td><td>2024-02-24</td><td>292.58</td></tr><tr><td>GOOGL</td><td>2024-02-18</td><td>3500.21</td></tr><tr><td>GOOGL</td><td>2024-02-19</td><td>3501.48</td></tr><tr><td>GOOGL</td><td>2024-02-20</td><td>3502.82</td></tr><tr><td>GOOGL</td><td>2024-02-21</td><td>3503.51</td></tr><tr><td>GOOGL</td><td>2024-02-22</td><td>3504.52</td></tr><tr><td>GOOGL</td><td>2024-02-23</td><td>3505.53</td></tr><tr><td>GOOGL</td><td>2024-02-24</td><td>3506.54</td></tr><tr><td>MSFT</td><td>2024-02-18</td><td>500.21</td></tr><tr><td>MSFT</td><td>2024-02-19</td><td>501.48</td></tr><tr><td>MSFT</td><td>2024-02-20</td><td>502.82</td></tr><tr><td>MSFT</td><td>2024-02-21</td><td>503.51</td></tr><tr><td>MSFT</td><td>2024-02-22</td><td>504.52</td></tr><tr><td>MSFT</td><td>2024-02-23</td><td>505.53</td></tr><tr><td>MSFT</td><td>2024-02-24</td><td>506.54</td></tr><tr><td>TSLA</td><td>2024-02-18</td><td>4500.21</td></tr><tr><td>TSLA</td><td>2024-02-19</td><td>4501.48</td></tr><tr><td>TSLA</td><td>2024-02-20</td><td>4502.82</td></tr><tr><td>TSLA</td><td>2024-02-21</td><td>4503.51</td></tr><tr><td>TSLA</td><td>2024-02-22</td><td>4504.52</td></tr><tr><td>TSLA</td><td>2024-02-23</td><td>4505.53</td></tr><tr><td>TSLA</td><td>2024-02-24</td><td>4506.54</td></tr><tr><td>FB</td><td>2024-02-18</td><td>5200.21</td></tr><tr><td>FB</td><td>2024-02-19</td><td>5201.48</td></tr><tr><td>FB</td><td>2024-02-20</td><td>5202.82</td></tr><tr><td>FB</td><td>2024-02-21</td><td>5203.51</td></tr><tr><td>FB</td><td>2024-02-22</td><td>5204.52</td></tr><tr><td>FB</td><td>2024-02-23</td><td>5205.53</td></tr><tr><td>FB</td><td>2024-02-24</td><td>5206.54</td></tr><tr><td>TSLA</td><td>2024-02-18</td><td>4500.21</td></tr><tr><td>TSLA</td><td>2024-02-19</td><td>4501.48</td></tr><tr><td>TSLA</td><td>2024-02-20</td><td>4502.82</td></tr><tr><td>TSLA</td><td>2024-02-21</td><td>4503.51</td></tr><tr><td>TSLA</td><td>2024-02-22</td><td>4504.52</td></tr><tr><td>TSLA</td><td>2024-02-23</td><td>4505.53</td></tr><tr><td>TSLA</td><td>2024-02-24</td><td>4506.54</td></tr></tbody></table></div>"
      ]
     },
     "metadata": {
      "application/vnd.databricks.v1+output": {
       "addedWidgets": {},
       "aggData": [],
       "aggError": "",
       "aggOverflow": false,
       "aggSchema": [],
       "aggSeriesLimitReached": false,
       "aggType": "",
       "arguments": {},
       "columnCustomDisplayInfos": {},
       "data": [
        [
         "AAPL",
         "2024-02-18",
         278.21
        ],
        [
         "AAPL",
         "2024-02-19",
         277.48
        ],
        [
         "AAPL",
         "2024-02-20",
         288.82
        ],
        [
         "AAPL",
         "2024-02-21",
         289.59
        ],
        [
         "AAPL",
         "2024-02-22",
         290.52
        ],
        [
         "AAPL",
         "2024-02-23",
         291.54
        ],
        [
         "AAPL",
         "2024-02-24",
         292.58
        ],
        [
         "GOOGL",
         "2024-02-18",
         3500.21
        ],
        [
         "GOOGL",
         "2024-02-19",
         3501.48
        ],
        [
         "GOOGL",
         "2024-02-20",
         3502.82
        ],
        [
         "GOOGL",
         "2024-02-21",
         3503.51
        ],
        [
         "GOOGL",
         "2024-02-22",
         3504.52
        ],
        [
         "GOOGL",
         "2024-02-23",
         3505.53
        ],
        [
         "GOOGL",
         "2024-02-24",
         3506.54
        ],
        [
         "MSFT",
         "2024-02-18",
         500.21
        ],
        [
         "MSFT",
         "2024-02-19",
         501.48
        ],
        [
         "MSFT",
         "2024-02-20",
         502.82
        ],
        [
         "MSFT",
         "2024-02-21",
         503.51
        ],
        [
         "MSFT",
         "2024-02-22",
         504.52
        ],
        [
         "MSFT",
         "2024-02-23",
         505.53
        ],
        [
         "MSFT",
         "2024-02-24",
         506.54
        ],
        [
         "TSLA",
         "2024-02-18",
         4500.21
        ],
        [
         "TSLA",
         "2024-02-19",
         4501.48
        ],
        [
         "TSLA",
         "2024-02-20",
         4502.82
        ],
        [
         "TSLA",
         "2024-02-21",
         4503.51
        ],
        [
         "TSLA",
         "2024-02-22",
         4504.52
        ],
        [
         "TSLA",
         "2024-02-23",
         4505.53
        ],
        [
         "TSLA",
         "2024-02-24",
         4506.54
        ],
        [
         "FB",
         "2024-02-18",
         5200.21
        ],
        [
         "FB",
         "2024-02-19",
         5201.48
        ],
        [
         "FB",
         "2024-02-20",
         5202.82
        ],
        [
         "FB",
         "2024-02-21",
         5203.51
        ],
        [
         "FB",
         "2024-02-22",
         5204.52
        ],
        [
         "FB",
         "2024-02-23",
         5205.53
        ],
        [
         "FB",
         "2024-02-24",
         5206.54
        ],
        [
         "TSLA",
         "2024-02-18",
         4500.21
        ],
        [
         "TSLA",
         "2024-02-19",
         4501.48
        ],
        [
         "TSLA",
         "2024-02-20",
         4502.82
        ],
        [
         "TSLA",
         "2024-02-21",
         4503.51
        ],
        [
         "TSLA",
         "2024-02-22",
         4504.52
        ],
        [
         "TSLA",
         "2024-02-23",
         4505.53
        ],
        [
         "TSLA",
         "2024-02-24",
         4506.54
        ]
       ],
       "datasetInfos": [],
       "dbfsResultPath": null,
       "isJsonSchema": true,
       "metadata": {},
       "overflow": false,
       "plotOptions": {
        "customPlotOptions": {},
        "displayType": "table",
        "pivotAggregation": null,
        "pivotColumns": null,
        "xColumns": null,
        "yColumns": null
       },
       "removedWidgets": [],
       "schema": [
        {
         "metadata": "{}",
         "name": "stock",
         "type": "\"string\""
        },
        {
         "metadata": "{}",
         "name": "Date",
         "type": "\"string\""
        },
        {
         "metadata": "{}",
         "name": "price",
         "type": "\"double\""
        }
       ],
       "type": "table"
      }
     },
     "output_type": "display_data"
    }
   ],
   "source": [
    "df_clients = spark.read.format('parquet').load('dbfs:/mnt/bronze/clients/clients_20240220')\n",
    "df_clients.display()\n",
    "\n",
    "df_collaterals = spark.read.format('parquet').load('dbfs:/mnt/bronze/collaterals/collaterals_20240220')\n",
    "df_collaterals.display()\n",
    "\n",
    "df_stocks = spark.read.format('parquet').load('dbfs:/mnt/bronze/stocks/stocks_20240220')\n",
    "df_stocks.display()"
   ]
  },
  {
   "cell_type": "markdown",
   "metadata": {
    "application/vnd.databricks.v1+cell": {
     "cellMetadata": {
      "byteLimit": 2048000,
      "rowLimit": 10000
     },
     "inputWidgets": {},
     "nuid": "d7ae8bef-f7fa-4daa-ab41-46a7b8098558",
     "showTitle": false,
     "title": ""
    }
   },
   "source": [
    "### Target: silver container"
   ]
  },
  {
   "cell_type": "code",
   "execution_count": 0,
   "metadata": {
    "application/vnd.databricks.v1+cell": {
     "cellMetadata": {
      "byteLimit": 2048000,
      "rowLimit": 10000
     },
     "inputWidgets": {},
     "nuid": "d2b53e48-fd42-4ebe-bd68-4ce9659d1a28",
     "showTitle": false,
     "title": ""
    }
   },
   "outputs": [
    {
     "output_type": "display_data",
     "data": {
      "text/html": [
       "<style scoped>\n",
       "  .table-result-container {\n",
       "    max-height: 300px;\n",
       "    overflow: auto;\n",
       "  }\n",
       "  table, th, td {\n",
       "    border: 1px solid black;\n",
       "    border-collapse: collapse;\n",
       "  }\n",
       "  th, td {\n",
       "    padding: 5px;\n",
       "  }\n",
       "  th {\n",
       "    text-align: left;\n",
       "  }\n",
       "</style><div class='table-result-container'><table class='table-result'><thead style='background-color: white'><tr><th>client_id</th><th>first_name</th><th>last_name</th><th>email</th><th>phone</th><th>address1</th><th>address2</th><th>city</th><th>zipcode</th><th>corporate_name</th><th>role</th><th>income_type</th><th>income</th><th>status</th><th>update_date</th><th>comments</th><th>dq_check</th></tr></thead><tbody><tr><td>1</td><td>Person1_first</td><td>Person1_last</td><td>Person1@email.com</td><td>111-111-1111</td><td>Gustav Mahlerlaan</td><td>100</td><td>Amsterdam</td><td>1082 PP</td><td>ABN</td><td>Developer</td><td>salaried</td><td>5000</td><td>processed</td><td>2024-02-20T21:35:49.207Z</td><td>null</td><td>PASS</td></tr><tr><td>2</td><td>Person2_first</td><td>Person2_last</td><td>Person2@email.com</td><td>222-222-2222</td><td>Gustav Mahlerlaan</td><td>100</td><td>Amsterdam</td><td>1082 PP</td><td>ABN</td><td>Chapter Lead</td><td>salaried</td><td>5000</td><td>processed</td><td>2024-02-20T21:35:49.207Z</td><td>null</td><td>PASS</td></tr><tr><td>3</td><td>Person3_first</td><td>Person3_last</td><td>Person3@email.com</td><td>333-333-3333</td><td>Gustav Mahlerlaan</td><td>100</td><td>Amsterdam</td><td>1082 PP</td><td>ABN</td><td>Data Engineer</td><td>salaried</td><td>5000</td><td>processed</td><td>2024-02-20T21:35:49.207Z</td><td>null</td><td>PASS</td></tr><tr><td>4</td><td>Person4_first</td><td>Person4_last</td><td>Person4@email.com</td><td>444-444-4444</td><td>Gustav Mahlerlaan</td><td>100</td><td>Amsterdam</td><td>1082 PP</td><td>ABN</td><td>DevOps Engineer</td><td>salaried</td><td>5000</td><td>processed</td><td>2024-02-20T21:35:49.207Z</td><td>null</td><td>PASS</td></tr><tr><td>5</td><td>Person5_first</td><td>Person5_last</td><td>Person5@email.com</td><td>555-555-5555</td><td>Gustav Mahlerlaan</td><td>300</td><td>Amsterdam</td><td>1082 PP</td><td>RABO</td><td>Developer</td><td>salaried</td><td>5000</td><td>processed</td><td>2024-02-20T21:35:49.207Z</td><td>null</td><td>PASS</td></tr></tbody></table></div>"
      ]
     },
     "metadata": {
      "application/vnd.databricks.v1+output": {
       "addedWidgets": {},
       "aggData": [],
       "aggError": "",
       "aggOverflow": false,
       "aggSchema": [],
       "aggSeriesLimitReached": false,
       "aggType": "",
       "arguments": {},
       "columnCustomDisplayInfos": {},
       "data": [
        [
         1,
         "Person1_first",
         "Person1_last",
         "Person1@email.com",
         "111-111-1111",
         "Gustav Mahlerlaan",
         "100",
         "Amsterdam",
         "1082 PP",
         "ABN",
         "Developer",
         "salaried",
         "5000",
         "processed",
         "2024-02-20T21:35:49.207Z",
         null,
         "PASS"
        ],
        [
         2,
         "Person2_first",
         "Person2_last",
         "Person2@email.com",
         "222-222-2222",
         "Gustav Mahlerlaan",
         "100",
         "Amsterdam",
         "1082 PP",
         "ABN",
         "Chapter Lead",
         "salaried",
         "5000",
         "processed",
         "2024-02-20T21:35:49.207Z",
         null,
         "PASS"
        ],
        [
         3,
         "Person3_first",
         "Person3_last",
         "Person3@email.com",
         "333-333-3333",
         "Gustav Mahlerlaan",
         "100",
         "Amsterdam",
         "1082 PP",
         "ABN",
         "Data Engineer",
         "salaried",
         "5000",
         "processed",
         "2024-02-20T21:35:49.207Z",
         null,
         "PASS"
        ],
        [
         4,
         "Person4_first",
         "Person4_last",
         "Person4@email.com",
         "444-444-4444",
         "Gustav Mahlerlaan",
         "100",
         "Amsterdam",
         "1082 PP",
         "ABN",
         "DevOps Engineer",
         "salaried",
         "5000",
         "processed",
         "2024-02-20T21:35:49.207Z",
         null,
         "PASS"
        ],
        [
         5,
         "Person5_first",
         "Person5_last",
         "Person5@email.com",
         "555-555-5555",
         "Gustav Mahlerlaan",
         "300",
         "Amsterdam",
         "1082 PP",
         "RABO",
         "Developer",
         "salaried",
         "5000",
         "processed",
         "2024-02-20T21:35:49.207Z",
         null,
         "PASS"
        ]
       ],
       "datasetInfos": [],
       "dbfsResultPath": null,
       "isJsonSchema": true,
       "metadata": {},
       "overflow": false,
       "plotOptions": {
        "customPlotOptions": {},
        "displayType": "table",
        "pivotAggregation": null,
        "pivotColumns": null,
        "xColumns": null,
        "yColumns": null
       },
       "removedWidgets": [],
       "schema": [
        {
         "metadata": "{}",
         "name": "client_id",
         "type": "\"integer\""
        },
        {
         "metadata": "{}",
         "name": "first_name",
         "type": "\"string\""
        },
        {
         "metadata": "{}",
         "name": "last_name",
         "type": "\"string\""
        },
        {
         "metadata": "{}",
         "name": "email",
         "type": "\"string\""
        },
        {
         "metadata": "{}",
         "name": "phone",
         "type": "\"string\""
        },
        {
         "metadata": "{}",
         "name": "address1",
         "type": "\"string\""
        },
        {
         "metadata": "{}",
         "name": "address2",
         "type": "\"string\""
        },
        {
         "metadata": "{}",
         "name": "city",
         "type": "\"string\""
        },
        {
         "metadata": "{}",
         "name": "zipcode",
         "type": "\"string\""
        },
        {
         "metadata": "{}",
         "name": "corporate_name",
         "type": "\"string\""
        },
        {
         "metadata": "{}",
         "name": "role",
         "type": "\"string\""
        },
        {
         "metadata": "{}",
         "name": "income_type",
         "type": "\"string\""
        },
        {
         "metadata": "{}",
         "name": "income",
         "type": "\"string\""
        },
        {
         "metadata": "{}",
         "name": "status",
         "type": "\"string\""
        },
        {
         "metadata": "{}",
         "name": "update_date",
         "type": "\"timestamp\""
        },
        {
         "metadata": "{}",
         "name": "comments",
         "type": "\"string\""
        },
        {
         "metadata": "{}",
         "name": "dq_check",
         "type": "\"string\""
        }
       ],
       "type": "table"
      }
     },
     "output_type": "display_data"
    },
    {
     "output_type": "display_data",
     "data": {
      "text/html": [
       "<style scoped>\n",
       "  .table-result-container {\n",
       "    max-height: 300px;\n",
       "    overflow: auto;\n",
       "  }\n",
       "  table, th, td {\n",
       "    border: 1px solid black;\n",
       "    border-collapse: collapse;\n",
       "  }\n",
       "  th, td {\n",
       "    padding: 5px;\n",
       "  }\n",
       "  th {\n",
       "    text-align: left;\n",
       "  }\n",
       "</style><div class='table-result-container'><table class='table-result'><thead style='background-color: white'><tr><th>client_id</th><th>savings</th><th>cars</th><th>stocks</th><th>balance</th><th>status</th><th>update_date</th><th>dq_check</th></tr></thead><tbody><tr><td>1</td><td>21000</td><td>Toyota Camry;Honda Civic</td><td>AAPL,GOOGL,MSFT</td><td>30000</td><td>processed</td><td>2024-02-20T21:35:59.621Z</td><td>PASS</td></tr><tr><td>2</td><td>22000</td><td>Ford Mustang</td><td>TSLA,MSFT</td><td>31000</td><td>processed</td><td>2024-02-20T21:35:59.621Z</td><td>PASS</td></tr><tr><td>3</td><td>23000</td><td>Jeep Wrangler</td><td>FB,AAPL</td><td>32000</td><td>processed</td><td>2024-02-20T21:35:59.621Z</td><td>PASS</td></tr><tr><td>4</td><td>1000</td><td>Tesla Model S; BMW X5</td><td>FB</td><td>330000</td><td>processed</td><td>2024-02-20T21:35:59.621Z</td><td>PASS</td></tr><tr><td>5</td><td>20000</td><td>Subaru Outback; Jeep Wrangler</td><td>GOOGL,MSFT</td><td>34000</td><td>processed</td><td>2024-02-20T21:35:59.621Z</td><td>PASS</td></tr><tr><td>6</td><td>33000</td><td>Honda Civic</td><td>MSFT</td><td>35000</td><td>processed</td><td>2024-02-20T21:35:59.621Z</td><td>PASS</td></tr><tr><td>7</td><td>1000</td><td>Tesla Model S</td><td>GOOGL</td><td>38000</td><td>processed</td><td>2024-02-20T21:35:59.621Z</td><td>PASS</td></tr><tr><td>8</td><td>35000</td><td>Subaru Outback</td><td>MSFT</td><td>40000</td><td>processed</td><td>2024-02-20T21:35:59.621Z</td><td>PASS</td></tr></tbody></table></div>"
      ]
     },
     "metadata": {
      "application/vnd.databricks.v1+output": {
       "addedWidgets": {},
       "aggData": [],
       "aggError": "",
       "aggOverflow": false,
       "aggSchema": [],
       "aggSeriesLimitReached": false,
       "aggType": "",
       "arguments": {},
       "columnCustomDisplayInfos": {},
       "data": [
        [
         "1",
         "21000",
         "Toyota Camry;Honda Civic",
         "AAPL,GOOGL,MSFT",
         "30000",
         "processed",
         "2024-02-20T21:35:59.621Z",
         "PASS"
        ],
        [
         "2",
         "22000",
         "Ford Mustang",
         "TSLA,MSFT",
         "31000",
         "processed",
         "2024-02-20T21:35:59.621Z",
         "PASS"
        ],
        [
         "3",
         "23000",
         "Jeep Wrangler",
         "FB,AAPL",
         "32000",
         "processed",
         "2024-02-20T21:35:59.621Z",
         "PASS"
        ],
        [
         "4",
         "1000",
         "Tesla Model S; BMW X5",
         "FB",
         "330000",
         "processed",
         "2024-02-20T21:35:59.621Z",
         "PASS"
        ],
        [
         "5",
         "20000",
         "Subaru Outback; Jeep Wrangler",
         "GOOGL,MSFT",
         "34000",
         "processed",
         "2024-02-20T21:35:59.621Z",
         "PASS"
        ],
        [
         "6",
         "33000",
         "Honda Civic",
         "MSFT",
         "35000",
         "processed",
         "2024-02-20T21:35:59.621Z",
         "PASS"
        ],
        [
         "7",
         "1000",
         "Tesla Model S",
         "GOOGL",
         "38000",
         "processed",
         "2024-02-20T21:35:59.621Z",
         "PASS"
        ],
        [
         "8",
         "35000",
         "Subaru Outback",
         "MSFT",
         "40000",
         "processed",
         "2024-02-20T21:35:59.621Z",
         "PASS"
        ]
       ],
       "datasetInfos": [],
       "dbfsResultPath": null,
       "isJsonSchema": true,
       "metadata": {},
       "overflow": false,
       "plotOptions": {
        "customPlotOptions": {},
        "displayType": "table",
        "pivotAggregation": null,
        "pivotColumns": null,
        "xColumns": null,
        "yColumns": null
       },
       "removedWidgets": [],
       "schema": [
        {
         "metadata": "{}",
         "name": "client_id",
         "type": "\"string\""
        },
        {
         "metadata": "{}",
         "name": "savings",
         "type": "\"string\""
        },
        {
         "metadata": "{}",
         "name": "cars",
         "type": "\"string\""
        },
        {
         "metadata": "{}",
         "name": "stocks",
         "type": "\"string\""
        },
        {
         "metadata": "{}",
         "name": "balance",
         "type": "\"string\""
        },
        {
         "metadata": "{}",
         "name": "status",
         "type": "\"string\""
        },
        {
         "metadata": "{}",
         "name": "update_date",
         "type": "\"timestamp\""
        },
        {
         "metadata": "{}",
         "name": "dq_check",
         "type": "\"string\""
        }
       ],
       "type": "table"
      }
     },
     "output_type": "display_data"
    },
    {
     "output_type": "display_data",
     "data": {
      "text/html": [
       "<style scoped>\n",
       "  .table-result-container {\n",
       "    max-height: 300px;\n",
       "    overflow: auto;\n",
       "  }\n",
       "  table, th, td {\n",
       "    border: 1px solid black;\n",
       "    border-collapse: collapse;\n",
       "  }\n",
       "  th, td {\n",
       "    padding: 5px;\n",
       "  }\n",
       "  th {\n",
       "    text-align: left;\n",
       "  }\n",
       "</style><div class='table-result-container'><table class='table-result'><thead style='background-color: white'><tr><th>stock</th><th>Date</th><th>price</th><th>status</th><th>update_date</th><th>dq_check</th></tr></thead><tbody><tr><td>AAPL</td><td>2024-02-18</td><td>278.21</td><td>processed</td><td>2024-02-20T21:36:03.638Z</td><td>PASS</td></tr><tr><td>AAPL</td><td>2024-02-19</td><td>277.48</td><td>processed</td><td>2024-02-20T21:36:03.638Z</td><td>PASS</td></tr><tr><td>AAPL</td><td>2024-02-20</td><td>288.82</td><td>processed</td><td>2024-02-20T21:36:03.638Z</td><td>PASS</td></tr><tr><td>AAPL</td><td>2024-02-21</td><td>289.59</td><td>processed</td><td>2024-02-20T21:36:03.638Z</td><td>PASS</td></tr><tr><td>AAPL</td><td>2024-02-22</td><td>290.52</td><td>processed</td><td>2024-02-20T21:36:03.638Z</td><td>PASS</td></tr><tr><td>AAPL</td><td>2024-02-23</td><td>291.54</td><td>processed</td><td>2024-02-20T21:36:03.638Z</td><td>PASS</td></tr><tr><td>AAPL</td><td>2024-02-24</td><td>292.58</td><td>processed</td><td>2024-02-20T21:36:03.638Z</td><td>PASS</td></tr><tr><td>GOOGL</td><td>2024-02-18</td><td>3500.21</td><td>processed</td><td>2024-02-20T21:36:03.638Z</td><td>PASS</td></tr><tr><td>GOOGL</td><td>2024-02-19</td><td>3501.48</td><td>processed</td><td>2024-02-20T21:36:03.638Z</td><td>PASS</td></tr><tr><td>GOOGL</td><td>2024-02-20</td><td>3502.82</td><td>processed</td><td>2024-02-20T21:36:03.638Z</td><td>PASS</td></tr><tr><td>GOOGL</td><td>2024-02-21</td><td>3503.51</td><td>processed</td><td>2024-02-20T21:36:03.638Z</td><td>PASS</td></tr><tr><td>GOOGL</td><td>2024-02-22</td><td>3504.52</td><td>processed</td><td>2024-02-20T21:36:03.638Z</td><td>PASS</td></tr><tr><td>GOOGL</td><td>2024-02-23</td><td>3505.53</td><td>processed</td><td>2024-02-20T21:36:03.638Z</td><td>PASS</td></tr><tr><td>GOOGL</td><td>2024-02-24</td><td>3506.54</td><td>processed</td><td>2024-02-20T21:36:03.638Z</td><td>PASS</td></tr><tr><td>MSFT</td><td>2024-02-18</td><td>500.21</td><td>processed</td><td>2024-02-20T21:36:03.638Z</td><td>PASS</td></tr><tr><td>MSFT</td><td>2024-02-19</td><td>501.48</td><td>processed</td><td>2024-02-20T21:36:03.638Z</td><td>PASS</td></tr><tr><td>MSFT</td><td>2024-02-20</td><td>502.82</td><td>processed</td><td>2024-02-20T21:36:03.638Z</td><td>PASS</td></tr><tr><td>MSFT</td><td>2024-02-21</td><td>503.51</td><td>processed</td><td>2024-02-20T21:36:03.638Z</td><td>PASS</td></tr><tr><td>MSFT</td><td>2024-02-22</td><td>504.52</td><td>processed</td><td>2024-02-20T21:36:03.638Z</td><td>PASS</td></tr><tr><td>MSFT</td><td>2024-02-23</td><td>505.53</td><td>processed</td><td>2024-02-20T21:36:03.638Z</td><td>PASS</td></tr><tr><td>MSFT</td><td>2024-02-24</td><td>506.54</td><td>processed</td><td>2024-02-20T21:36:03.638Z</td><td>PASS</td></tr><tr><td>TSLA</td><td>2024-02-18</td><td>4500.21</td><td>processed</td><td>2024-02-20T21:36:03.638Z</td><td>PASS</td></tr><tr><td>TSLA</td><td>2024-02-19</td><td>4501.48</td><td>processed</td><td>2024-02-20T21:36:03.638Z</td><td>PASS</td></tr><tr><td>TSLA</td><td>2024-02-20</td><td>4502.82</td><td>processed</td><td>2024-02-20T21:36:03.638Z</td><td>PASS</td></tr><tr><td>TSLA</td><td>2024-02-21</td><td>4503.51</td><td>processed</td><td>2024-02-20T21:36:03.638Z</td><td>PASS</td></tr><tr><td>TSLA</td><td>2024-02-22</td><td>4504.52</td><td>processed</td><td>2024-02-20T21:36:03.638Z</td><td>PASS</td></tr><tr><td>TSLA</td><td>2024-02-23</td><td>4505.53</td><td>processed</td><td>2024-02-20T21:36:03.638Z</td><td>PASS</td></tr><tr><td>TSLA</td><td>2024-02-24</td><td>4506.54</td><td>processed</td><td>2024-02-20T21:36:03.638Z</td><td>PASS</td></tr><tr><td>FB</td><td>2024-02-18</td><td>5200.21</td><td>processed</td><td>2024-02-20T21:36:03.638Z</td><td>PASS</td></tr><tr><td>FB</td><td>2024-02-19</td><td>5201.48</td><td>processed</td><td>2024-02-20T21:36:03.638Z</td><td>PASS</td></tr><tr><td>FB</td><td>2024-02-20</td><td>5202.82</td><td>processed</td><td>2024-02-20T21:36:03.638Z</td><td>PASS</td></tr><tr><td>FB</td><td>2024-02-21</td><td>5203.51</td><td>processed</td><td>2024-02-20T21:36:03.638Z</td><td>PASS</td></tr><tr><td>FB</td><td>2024-02-22</td><td>5204.52</td><td>processed</td><td>2024-02-20T21:36:03.638Z</td><td>PASS</td></tr><tr><td>FB</td><td>2024-02-23</td><td>5205.53</td><td>processed</td><td>2024-02-20T21:36:03.638Z</td><td>PASS</td></tr><tr><td>FB</td><td>2024-02-24</td><td>5206.54</td><td>processed</td><td>2024-02-20T21:36:03.638Z</td><td>PASS</td></tr><tr><td>TSLA</td><td>2024-02-18</td><td>4500.21</td><td>processed</td><td>2024-02-20T21:36:03.638Z</td><td>PASS</td></tr><tr><td>TSLA</td><td>2024-02-19</td><td>4501.48</td><td>processed</td><td>2024-02-20T21:36:03.638Z</td><td>PASS</td></tr><tr><td>TSLA</td><td>2024-02-20</td><td>4502.82</td><td>processed</td><td>2024-02-20T21:36:03.638Z</td><td>PASS</td></tr><tr><td>TSLA</td><td>2024-02-21</td><td>4503.51</td><td>processed</td><td>2024-02-20T21:36:03.638Z</td><td>PASS</td></tr><tr><td>TSLA</td><td>2024-02-22</td><td>4504.52</td><td>processed</td><td>2024-02-20T21:36:03.638Z</td><td>PASS</td></tr><tr><td>TSLA</td><td>2024-02-23</td><td>4505.53</td><td>processed</td><td>2024-02-20T21:36:03.638Z</td><td>PASS</td></tr><tr><td>TSLA</td><td>2024-02-24</td><td>4506.54</td><td>processed</td><td>2024-02-20T21:36:03.638Z</td><td>PASS</td></tr></tbody></table></div>"
      ]
     },
     "metadata": {
      "application/vnd.databricks.v1+output": {
       "addedWidgets": {},
       "aggData": [],
       "aggError": "",
       "aggOverflow": false,
       "aggSchema": [],
       "aggSeriesLimitReached": false,
       "aggType": "",
       "arguments": {},
       "columnCustomDisplayInfos": {},
       "data": [
        [
         "AAPL",
         "2024-02-18",
         278.21,
         "processed",
         "2024-02-20T21:36:03.638Z",
         "PASS"
        ],
        [
         "AAPL",
         "2024-02-19",
         277.48,
         "processed",
         "2024-02-20T21:36:03.638Z",
         "PASS"
        ],
        [
         "AAPL",
         "2024-02-20",
         288.82,
         "processed",
         "2024-02-20T21:36:03.638Z",
         "PASS"
        ],
        [
         "AAPL",
         "2024-02-21",
         289.59,
         "processed",
         "2024-02-20T21:36:03.638Z",
         "PASS"
        ],
        [
         "AAPL",
         "2024-02-22",
         290.52,
         "processed",
         "2024-02-20T21:36:03.638Z",
         "PASS"
        ],
        [
         "AAPL",
         "2024-02-23",
         291.54,
         "processed",
         "2024-02-20T21:36:03.638Z",
         "PASS"
        ],
        [
         "AAPL",
         "2024-02-24",
         292.58,
         "processed",
         "2024-02-20T21:36:03.638Z",
         "PASS"
        ],
        [
         "GOOGL",
         "2024-02-18",
         3500.21,
         "processed",
         "2024-02-20T21:36:03.638Z",
         "PASS"
        ],
        [
         "GOOGL",
         "2024-02-19",
         3501.48,
         "processed",
         "2024-02-20T21:36:03.638Z",
         "PASS"
        ],
        [
         "GOOGL",
         "2024-02-20",
         3502.82,
         "processed",
         "2024-02-20T21:36:03.638Z",
         "PASS"
        ],
        [
         "GOOGL",
         "2024-02-21",
         3503.51,
         "processed",
         "2024-02-20T21:36:03.638Z",
         "PASS"
        ],
        [
         "GOOGL",
         "2024-02-22",
         3504.52,
         "processed",
         "2024-02-20T21:36:03.638Z",
         "PASS"
        ],
        [
         "GOOGL",
         "2024-02-23",
         3505.53,
         "processed",
         "2024-02-20T21:36:03.638Z",
         "PASS"
        ],
        [
         "GOOGL",
         "2024-02-24",
         3506.54,
         "processed",
         "2024-02-20T21:36:03.638Z",
         "PASS"
        ],
        [
         "MSFT",
         "2024-02-18",
         500.21,
         "processed",
         "2024-02-20T21:36:03.638Z",
         "PASS"
        ],
        [
         "MSFT",
         "2024-02-19",
         501.48,
         "processed",
         "2024-02-20T21:36:03.638Z",
         "PASS"
        ],
        [
         "MSFT",
         "2024-02-20",
         502.82,
         "processed",
         "2024-02-20T21:36:03.638Z",
         "PASS"
        ],
        [
         "MSFT",
         "2024-02-21",
         503.51,
         "processed",
         "2024-02-20T21:36:03.638Z",
         "PASS"
        ],
        [
         "MSFT",
         "2024-02-22",
         504.52,
         "processed",
         "2024-02-20T21:36:03.638Z",
         "PASS"
        ],
        [
         "MSFT",
         "2024-02-23",
         505.53,
         "processed",
         "2024-02-20T21:36:03.638Z",
         "PASS"
        ],
        [
         "MSFT",
         "2024-02-24",
         506.54,
         "processed",
         "2024-02-20T21:36:03.638Z",
         "PASS"
        ],
        [
         "TSLA",
         "2024-02-18",
         4500.21,
         "processed",
         "2024-02-20T21:36:03.638Z",
         "PASS"
        ],
        [
         "TSLA",
         "2024-02-19",
         4501.48,
         "processed",
         "2024-02-20T21:36:03.638Z",
         "PASS"
        ],
        [
         "TSLA",
         "2024-02-20",
         4502.82,
         "processed",
         "2024-02-20T21:36:03.638Z",
         "PASS"
        ],
        [
         "TSLA",
         "2024-02-21",
         4503.51,
         "processed",
         "2024-02-20T21:36:03.638Z",
         "PASS"
        ],
        [
         "TSLA",
         "2024-02-22",
         4504.52,
         "processed",
         "2024-02-20T21:36:03.638Z",
         "PASS"
        ],
        [
         "TSLA",
         "2024-02-23",
         4505.53,
         "processed",
         "2024-02-20T21:36:03.638Z",
         "PASS"
        ],
        [
         "TSLA",
         "2024-02-24",
         4506.54,
         "processed",
         "2024-02-20T21:36:03.638Z",
         "PASS"
        ],
        [
         "FB",
         "2024-02-18",
         5200.21,
         "processed",
         "2024-02-20T21:36:03.638Z",
         "PASS"
        ],
        [
         "FB",
         "2024-02-19",
         5201.48,
         "processed",
         "2024-02-20T21:36:03.638Z",
         "PASS"
        ],
        [
         "FB",
         "2024-02-20",
         5202.82,
         "processed",
         "2024-02-20T21:36:03.638Z",
         "PASS"
        ],
        [
         "FB",
         "2024-02-21",
         5203.51,
         "processed",
         "2024-02-20T21:36:03.638Z",
         "PASS"
        ],
        [
         "FB",
         "2024-02-22",
         5204.52,
         "processed",
         "2024-02-20T21:36:03.638Z",
         "PASS"
        ],
        [
         "FB",
         "2024-02-23",
         5205.53,
         "processed",
         "2024-02-20T21:36:03.638Z",
         "PASS"
        ],
        [
         "FB",
         "2024-02-24",
         5206.54,
         "processed",
         "2024-02-20T21:36:03.638Z",
         "PASS"
        ],
        [
         "TSLA",
         "2024-02-18",
         4500.21,
         "processed",
         "2024-02-20T21:36:03.638Z",
         "PASS"
        ],
        [
         "TSLA",
         "2024-02-19",
         4501.48,
         "processed",
         "2024-02-20T21:36:03.638Z",
         "PASS"
        ],
        [
         "TSLA",
         "2024-02-20",
         4502.82,
         "processed",
         "2024-02-20T21:36:03.638Z",
         "PASS"
        ],
        [
         "TSLA",
         "2024-02-21",
         4503.51,
         "processed",
         "2024-02-20T21:36:03.638Z",
         "PASS"
        ],
        [
         "TSLA",
         "2024-02-22",
         4504.52,
         "processed",
         "2024-02-20T21:36:03.638Z",
         "PASS"
        ],
        [
         "TSLA",
         "2024-02-23",
         4505.53,
         "processed",
         "2024-02-20T21:36:03.638Z",
         "PASS"
        ],
        [
         "TSLA",
         "2024-02-24",
         4506.54,
         "processed",
         "2024-02-20T21:36:03.638Z",
         "PASS"
        ]
       ],
       "datasetInfos": [],
       "dbfsResultPath": null,
       "isJsonSchema": true,
       "metadata": {},
       "overflow": false,
       "plotOptions": {
        "customPlotOptions": {},
        "displayType": "table",
        "pivotAggregation": null,
        "pivotColumns": null,
        "xColumns": null,
        "yColumns": null
       },
       "removedWidgets": [],
       "schema": [
        {
         "metadata": "{}",
         "name": "stock",
         "type": "\"string\""
        },
        {
         "metadata": "{}",
         "name": "Date",
         "type": "\"string\""
        },
        {
         "metadata": "{}",
         "name": "price",
         "type": "\"double\""
        },
        {
         "metadata": "{}",
         "name": "status",
         "type": "\"string\""
        },
        {
         "metadata": "{}",
         "name": "update_date",
         "type": "\"timestamp\""
        },
        {
         "metadata": "{}",
         "name": "dq_check",
         "type": "\"string\""
        }
       ],
       "type": "table"
      }
     },
     "output_type": "display_data"
    }
   ],
   "source": [
    "\n",
    "df_clients = spark.read.format('delta').load('dbfs:/mnt/silver/clients')\n",
    "df_clients.display()\n",
    "\n",
    "df_collaterals = spark.read.format('delta').load('dbfs:/mnt/silver/collaterals')\n",
    "df_collaterals.display()\n",
    "\n",
    "df_stocks = spark.read.format('delta').load('dbfs:/mnt/silver/stocks')\n",
    "df_stocks.display()"
   ]
  },
  {
   "cell_type": "markdown",
   "metadata": {
    "application/vnd.databricks.v1+cell": {
     "cellMetadata": {
      "byteLimit": 2048000,
      "rowLimit": 10000
     },
     "inputWidgets": {},
     "nuid": "93975bfe-0156-49c9-a9f9-d4f829d2f56f",
     "showTitle": false,
     "title": ""
    }
   },
   "source": [
    "### Target: gold container"
   ]
  },
  {
   "cell_type": "code",
   "execution_count": 0,
   "metadata": {
    "application/vnd.databricks.v1+cell": {
     "cellMetadata": {
      "byteLimit": 2048000,
      "rowLimit": 10000
     },
     "inputWidgets": {},
     "nuid": "4f308ec6-c6a9-4e9e-a296-8762809969e7",
     "showTitle": false,
     "title": ""
    }
   },
   "outputs": [
    {
     "output_type": "display_data",
     "data": {
      "text/html": [
       "<style scoped>\n",
       "  .table-result-container {\n",
       "    max-height: 300px;\n",
       "    overflow: auto;\n",
       "  }\n",
       "  table, th, td {\n",
       "    border: 1px solid black;\n",
       "    border-collapse: collapse;\n",
       "  }\n",
       "  th, td {\n",
       "    padding: 5px;\n",
       "  }\n",
       "  th {\n",
       "    text-align: left;\n",
       "  }\n",
       "</style><div class='table-result-container'><table class='table-result'><thead style='background-color: white'><tr><th>client_id</th><th>first_name</th><th>last_name</th><th>Date</th><th>stock</th><th>price</th></tr></thead><tbody><tr><td>1</td><td>Person1_first</td><td>Person1_last</td><td>2024-02-24</td><td>MSFT</td><td>506.54</td></tr><tr><td>1</td><td>Person1_first</td><td>Person1_last</td><td>2024-02-23</td><td>MSFT</td><td>505.53</td></tr><tr><td>1</td><td>Person1_first</td><td>Person1_last</td><td>2024-02-22</td><td>MSFT</td><td>504.52</td></tr><tr><td>1</td><td>Person1_first</td><td>Person1_last</td><td>2024-02-21</td><td>MSFT</td><td>503.51</td></tr><tr><td>1</td><td>Person1_first</td><td>Person1_last</td><td>2024-02-20</td><td>MSFT</td><td>502.82</td></tr><tr><td>1</td><td>Person1_first</td><td>Person1_last</td><td>2024-02-19</td><td>MSFT</td><td>501.48</td></tr><tr><td>1</td><td>Person1_first</td><td>Person1_last</td><td>2024-02-18</td><td>MSFT</td><td>500.21</td></tr><tr><td>1</td><td>Person1_first</td><td>Person1_last</td><td>2024-02-24</td><td>GOOGL</td><td>3506.54</td></tr><tr><td>1</td><td>Person1_first</td><td>Person1_last</td><td>2024-02-23</td><td>GOOGL</td><td>3505.53</td></tr><tr><td>1</td><td>Person1_first</td><td>Person1_last</td><td>2024-02-22</td><td>GOOGL</td><td>3504.52</td></tr><tr><td>1</td><td>Person1_first</td><td>Person1_last</td><td>2024-02-21</td><td>GOOGL</td><td>3503.51</td></tr><tr><td>1</td><td>Person1_first</td><td>Person1_last</td><td>2024-02-20</td><td>GOOGL</td><td>3502.82</td></tr><tr><td>1</td><td>Person1_first</td><td>Person1_last</td><td>2024-02-19</td><td>GOOGL</td><td>3501.48</td></tr><tr><td>1</td><td>Person1_first</td><td>Person1_last</td><td>2024-02-18</td><td>GOOGL</td><td>3500.21</td></tr><tr><td>1</td><td>Person1_first</td><td>Person1_last</td><td>2024-02-24</td><td>AAPL</td><td>292.58</td></tr><tr><td>1</td><td>Person1_first</td><td>Person1_last</td><td>2024-02-23</td><td>AAPL</td><td>291.54</td></tr><tr><td>1</td><td>Person1_first</td><td>Person1_last</td><td>2024-02-22</td><td>AAPL</td><td>290.52</td></tr><tr><td>1</td><td>Person1_first</td><td>Person1_last</td><td>2024-02-21</td><td>AAPL</td><td>289.59</td></tr><tr><td>1</td><td>Person1_first</td><td>Person1_last</td><td>2024-02-20</td><td>AAPL</td><td>288.82</td></tr><tr><td>1</td><td>Person1_first</td><td>Person1_last</td><td>2024-02-19</td><td>AAPL</td><td>277.48</td></tr><tr><td>1</td><td>Person1_first</td><td>Person1_last</td><td>2024-02-18</td><td>AAPL</td><td>278.21</td></tr><tr><td>2</td><td>Person2_first</td><td>Person2_last</td><td>2024-02-24</td><td>MSFT</td><td>506.54</td></tr><tr><td>2</td><td>Person2_first</td><td>Person2_last</td><td>2024-02-23</td><td>MSFT</td><td>505.53</td></tr><tr><td>2</td><td>Person2_first</td><td>Person2_last</td><td>2024-02-22</td><td>MSFT</td><td>504.52</td></tr><tr><td>2</td><td>Person2_first</td><td>Person2_last</td><td>2024-02-21</td><td>MSFT</td><td>503.51</td></tr><tr><td>2</td><td>Person2_first</td><td>Person2_last</td><td>2024-02-20</td><td>MSFT</td><td>502.82</td></tr><tr><td>2</td><td>Person2_first</td><td>Person2_last</td><td>2024-02-19</td><td>MSFT</td><td>501.48</td></tr><tr><td>2</td><td>Person2_first</td><td>Person2_last</td><td>2024-02-18</td><td>MSFT</td><td>500.21</td></tr><tr><td>2</td><td>Person2_first</td><td>Person2_last</td><td>2024-02-24</td><td>TSLA</td><td>4506.54</td></tr><tr><td>2</td><td>Person2_first</td><td>Person2_last</td><td>2024-02-23</td><td>TSLA</td><td>4505.53</td></tr><tr><td>2</td><td>Person2_first</td><td>Person2_last</td><td>2024-02-22</td><td>TSLA</td><td>4504.52</td></tr><tr><td>2</td><td>Person2_first</td><td>Person2_last</td><td>2024-02-21</td><td>TSLA</td><td>4503.51</td></tr><tr><td>2</td><td>Person2_first</td><td>Person2_last</td><td>2024-02-20</td><td>TSLA</td><td>4502.82</td></tr><tr><td>2</td><td>Person2_first</td><td>Person2_last</td><td>2024-02-19</td><td>TSLA</td><td>4501.48</td></tr><tr><td>2</td><td>Person2_first</td><td>Person2_last</td><td>2024-02-18</td><td>TSLA</td><td>4500.21</td></tr><tr><td>2</td><td>Person2_first</td><td>Person2_last</td><td>2024-02-24</td><td>TSLA</td><td>4506.54</td></tr><tr><td>2</td><td>Person2_first</td><td>Person2_last</td><td>2024-02-23</td><td>TSLA</td><td>4505.53</td></tr><tr><td>2</td><td>Person2_first</td><td>Person2_last</td><td>2024-02-22</td><td>TSLA</td><td>4504.52</td></tr><tr><td>2</td><td>Person2_first</td><td>Person2_last</td><td>2024-02-21</td><td>TSLA</td><td>4503.51</td></tr><tr><td>2</td><td>Person2_first</td><td>Person2_last</td><td>2024-02-20</td><td>TSLA</td><td>4502.82</td></tr><tr><td>2</td><td>Person2_first</td><td>Person2_last</td><td>2024-02-19</td><td>TSLA</td><td>4501.48</td></tr><tr><td>2</td><td>Person2_first</td><td>Person2_last</td><td>2024-02-18</td><td>TSLA</td><td>4500.21</td></tr><tr><td>3</td><td>Person3_first</td><td>Person3_last</td><td>2024-02-24</td><td>AAPL</td><td>292.58</td></tr><tr><td>3</td><td>Person3_first</td><td>Person3_last</td><td>2024-02-23</td><td>AAPL</td><td>291.54</td></tr><tr><td>3</td><td>Person3_first</td><td>Person3_last</td><td>2024-02-22</td><td>AAPL</td><td>290.52</td></tr><tr><td>3</td><td>Person3_first</td><td>Person3_last</td><td>2024-02-21</td><td>AAPL</td><td>289.59</td></tr><tr><td>3</td><td>Person3_first</td><td>Person3_last</td><td>2024-02-20</td><td>AAPL</td><td>288.82</td></tr><tr><td>3</td><td>Person3_first</td><td>Person3_last</td><td>2024-02-19</td><td>AAPL</td><td>277.48</td></tr><tr><td>3</td><td>Person3_first</td><td>Person3_last</td><td>2024-02-18</td><td>AAPL</td><td>278.21</td></tr><tr><td>3</td><td>Person3_first</td><td>Person3_last</td><td>2024-02-24</td><td>FB</td><td>5206.54</td></tr><tr><td>3</td><td>Person3_first</td><td>Person3_last</td><td>2024-02-23</td><td>FB</td><td>5205.53</td></tr><tr><td>3</td><td>Person3_first</td><td>Person3_last</td><td>2024-02-22</td><td>FB</td><td>5204.52</td></tr><tr><td>3</td><td>Person3_first</td><td>Person3_last</td><td>2024-02-21</td><td>FB</td><td>5203.51</td></tr><tr><td>3</td><td>Person3_first</td><td>Person3_last</td><td>2024-02-20</td><td>FB</td><td>5202.82</td></tr><tr><td>3</td><td>Person3_first</td><td>Person3_last</td><td>2024-02-19</td><td>FB</td><td>5201.48</td></tr><tr><td>3</td><td>Person3_first</td><td>Person3_last</td><td>2024-02-18</td><td>FB</td><td>5200.21</td></tr><tr><td>4</td><td>Person4_first</td><td>Person4_last</td><td>2024-02-24</td><td>FB</td><td>5206.54</td></tr><tr><td>4</td><td>Person4_first</td><td>Person4_last</td><td>2024-02-23</td><td>FB</td><td>5205.53</td></tr><tr><td>4</td><td>Person4_first</td><td>Person4_last</td><td>2024-02-22</td><td>FB</td><td>5204.52</td></tr><tr><td>4</td><td>Person4_first</td><td>Person4_last</td><td>2024-02-21</td><td>FB</td><td>5203.51</td></tr><tr><td>4</td><td>Person4_first</td><td>Person4_last</td><td>2024-02-20</td><td>FB</td><td>5202.82</td></tr><tr><td>4</td><td>Person4_first</td><td>Person4_last</td><td>2024-02-19</td><td>FB</td><td>5201.48</td></tr><tr><td>4</td><td>Person4_first</td><td>Person4_last</td><td>2024-02-18</td><td>FB</td><td>5200.21</td></tr><tr><td>5</td><td>Person5_first</td><td>Person5_last</td><td>2024-02-24</td><td>MSFT</td><td>506.54</td></tr><tr><td>5</td><td>Person5_first</td><td>Person5_last</td><td>2024-02-23</td><td>MSFT</td><td>505.53</td></tr><tr><td>5</td><td>Person5_first</td><td>Person5_last</td><td>2024-02-22</td><td>MSFT</td><td>504.52</td></tr><tr><td>5</td><td>Person5_first</td><td>Person5_last</td><td>2024-02-21</td><td>MSFT</td><td>503.51</td></tr><tr><td>5</td><td>Person5_first</td><td>Person5_last</td><td>2024-02-20</td><td>MSFT</td><td>502.82</td></tr><tr><td>5</td><td>Person5_first</td><td>Person5_last</td><td>2024-02-19</td><td>MSFT</td><td>501.48</td></tr><tr><td>5</td><td>Person5_first</td><td>Person5_last</td><td>2024-02-18</td><td>MSFT</td><td>500.21</td></tr><tr><td>5</td><td>Person5_first</td><td>Person5_last</td><td>2024-02-24</td><td>GOOGL</td><td>3506.54</td></tr><tr><td>5</td><td>Person5_first</td><td>Person5_last</td><td>2024-02-23</td><td>GOOGL</td><td>3505.53</td></tr><tr><td>5</td><td>Person5_first</td><td>Person5_last</td><td>2024-02-22</td><td>GOOGL</td><td>3504.52</td></tr><tr><td>5</td><td>Person5_first</td><td>Person5_last</td><td>2024-02-21</td><td>GOOGL</td><td>3503.51</td></tr><tr><td>5</td><td>Person5_first</td><td>Person5_last</td><td>2024-02-20</td><td>GOOGL</td><td>3502.82</td></tr><tr><td>5</td><td>Person5_first</td><td>Person5_last</td><td>2024-02-19</td><td>GOOGL</td><td>3501.48</td></tr><tr><td>5</td><td>Person5_first</td><td>Person5_last</td><td>2024-02-18</td><td>GOOGL</td><td>3500.21</td></tr></tbody></table></div>"
      ]
     },
     "metadata": {
      "application/vnd.databricks.v1+output": {
       "addedWidgets": {},
       "aggData": [],
       "aggError": "",
       "aggOverflow": false,
       "aggSchema": [],
       "aggSeriesLimitReached": false,
       "aggType": "",
       "arguments": {},
       "columnCustomDisplayInfos": {},
       "data": [
        [
         1,
         "Person1_first",
         "Person1_last",
         "2024-02-24",
         "MSFT",
         506.54
        ],
        [
         1,
         "Person1_first",
         "Person1_last",
         "2024-02-23",
         "MSFT",
         505.53
        ],
        [
         1,
         "Person1_first",
         "Person1_last",
         "2024-02-22",
         "MSFT",
         504.52
        ],
        [
         1,
         "Person1_first",
         "Person1_last",
         "2024-02-21",
         "MSFT",
         503.51
        ],
        [
         1,
         "Person1_first",
         "Person1_last",
         "2024-02-20",
         "MSFT",
         502.82
        ],
        [
         1,
         "Person1_first",
         "Person1_last",
         "2024-02-19",
         "MSFT",
         501.48
        ],
        [
         1,
         "Person1_first",
         "Person1_last",
         "2024-02-18",
         "MSFT",
         500.21
        ],
        [
         1,
         "Person1_first",
         "Person1_last",
         "2024-02-24",
         "GOOGL",
         3506.54
        ],
        [
         1,
         "Person1_first",
         "Person1_last",
         "2024-02-23",
         "GOOGL",
         3505.53
        ],
        [
         1,
         "Person1_first",
         "Person1_last",
         "2024-02-22",
         "GOOGL",
         3504.52
        ],
        [
         1,
         "Person1_first",
         "Person1_last",
         "2024-02-21",
         "GOOGL",
         3503.51
        ],
        [
         1,
         "Person1_first",
         "Person1_last",
         "2024-02-20",
         "GOOGL",
         3502.82
        ],
        [
         1,
         "Person1_first",
         "Person1_last",
         "2024-02-19",
         "GOOGL",
         3501.48
        ],
        [
         1,
         "Person1_first",
         "Person1_last",
         "2024-02-18",
         "GOOGL",
         3500.21
        ],
        [
         1,
         "Person1_first",
         "Person1_last",
         "2024-02-24",
         "AAPL",
         292.58
        ],
        [
         1,
         "Person1_first",
         "Person1_last",
         "2024-02-23",
         "AAPL",
         291.54
        ],
        [
         1,
         "Person1_first",
         "Person1_last",
         "2024-02-22",
         "AAPL",
         290.52
        ],
        [
         1,
         "Person1_first",
         "Person1_last",
         "2024-02-21",
         "AAPL",
         289.59
        ],
        [
         1,
         "Person1_first",
         "Person1_last",
         "2024-02-20",
         "AAPL",
         288.82
        ],
        [
         1,
         "Person1_first",
         "Person1_last",
         "2024-02-19",
         "AAPL",
         277.48
        ],
        [
         1,
         "Person1_first",
         "Person1_last",
         "2024-02-18",
         "AAPL",
         278.21
        ],
        [
         2,
         "Person2_first",
         "Person2_last",
         "2024-02-24",
         "MSFT",
         506.54
        ],
        [
         2,
         "Person2_first",
         "Person2_last",
         "2024-02-23",
         "MSFT",
         505.53
        ],
        [
         2,
         "Person2_first",
         "Person2_last",
         "2024-02-22",
         "MSFT",
         504.52
        ],
        [
         2,
         "Person2_first",
         "Person2_last",
         "2024-02-21",
         "MSFT",
         503.51
        ],
        [
         2,
         "Person2_first",
         "Person2_last",
         "2024-02-20",
         "MSFT",
         502.82
        ],
        [
         2,
         "Person2_first",
         "Person2_last",
         "2024-02-19",
         "MSFT",
         501.48
        ],
        [
         2,
         "Person2_first",
         "Person2_last",
         "2024-02-18",
         "MSFT",
         500.21
        ],
        [
         2,
         "Person2_first",
         "Person2_last",
         "2024-02-24",
         "TSLA",
         4506.54
        ],
        [
         2,
         "Person2_first",
         "Person2_last",
         "2024-02-23",
         "TSLA",
         4505.53
        ],
        [
         2,
         "Person2_first",
         "Person2_last",
         "2024-02-22",
         "TSLA",
         4504.52
        ],
        [
         2,
         "Person2_first",
         "Person2_last",
         "2024-02-21",
         "TSLA",
         4503.51
        ],
        [
         2,
         "Person2_first",
         "Person2_last",
         "2024-02-20",
         "TSLA",
         4502.82
        ],
        [
         2,
         "Person2_first",
         "Person2_last",
         "2024-02-19",
         "TSLA",
         4501.48
        ],
        [
         2,
         "Person2_first",
         "Person2_last",
         "2024-02-18",
         "TSLA",
         4500.21
        ],
        [
         2,
         "Person2_first",
         "Person2_last",
         "2024-02-24",
         "TSLA",
         4506.54
        ],
        [
         2,
         "Person2_first",
         "Person2_last",
         "2024-02-23",
         "TSLA",
         4505.53
        ],
        [
         2,
         "Person2_first",
         "Person2_last",
         "2024-02-22",
         "TSLA",
         4504.52
        ],
        [
         2,
         "Person2_first",
         "Person2_last",
         "2024-02-21",
         "TSLA",
         4503.51
        ],
        [
         2,
         "Person2_first",
         "Person2_last",
         "2024-02-20",
         "TSLA",
         4502.82
        ],
        [
         2,
         "Person2_first",
         "Person2_last",
         "2024-02-19",
         "TSLA",
         4501.48
        ],
        [
         2,
         "Person2_first",
         "Person2_last",
         "2024-02-18",
         "TSLA",
         4500.21
        ],
        [
         3,
         "Person3_first",
         "Person3_last",
         "2024-02-24",
         "AAPL",
         292.58
        ],
        [
         3,
         "Person3_first",
         "Person3_last",
         "2024-02-23",
         "AAPL",
         291.54
        ],
        [
         3,
         "Person3_first",
         "Person3_last",
         "2024-02-22",
         "AAPL",
         290.52
        ],
        [
         3,
         "Person3_first",
         "Person3_last",
         "2024-02-21",
         "AAPL",
         289.59
        ],
        [
         3,
         "Person3_first",
         "Person3_last",
         "2024-02-20",
         "AAPL",
         288.82
        ],
        [
         3,
         "Person3_first",
         "Person3_last",
         "2024-02-19",
         "AAPL",
         277.48
        ],
        [
         3,
         "Person3_first",
         "Person3_last",
         "2024-02-18",
         "AAPL",
         278.21
        ],
        [
         3,
         "Person3_first",
         "Person3_last",
         "2024-02-24",
         "FB",
         5206.54
        ],
        [
         3,
         "Person3_first",
         "Person3_last",
         "2024-02-23",
         "FB",
         5205.53
        ],
        [
         3,
         "Person3_first",
         "Person3_last",
         "2024-02-22",
         "FB",
         5204.52
        ],
        [
         3,
         "Person3_first",
         "Person3_last",
         "2024-02-21",
         "FB",
         5203.51
        ],
        [
         3,
         "Person3_first",
         "Person3_last",
         "2024-02-20",
         "FB",
         5202.82
        ],
        [
         3,
         "Person3_first",
         "Person3_last",
         "2024-02-19",
         "FB",
         5201.48
        ],
        [
         3,
         "Person3_first",
         "Person3_last",
         "2024-02-18",
         "FB",
         5200.21
        ],
        [
         4,
         "Person4_first",
         "Person4_last",
         "2024-02-24",
         "FB",
         5206.54
        ],
        [
         4,
         "Person4_first",
         "Person4_last",
         "2024-02-23",
         "FB",
         5205.53
        ],
        [
         4,
         "Person4_first",
         "Person4_last",
         "2024-02-22",
         "FB",
         5204.52
        ],
        [
         4,
         "Person4_first",
         "Person4_last",
         "2024-02-21",
         "FB",
         5203.51
        ],
        [
         4,
         "Person4_first",
         "Person4_last",
         "2024-02-20",
         "FB",
         5202.82
        ],
        [
         4,
         "Person4_first",
         "Person4_last",
         "2024-02-19",
         "FB",
         5201.48
        ],
        [
         4,
         "Person4_first",
         "Person4_last",
         "2024-02-18",
         "FB",
         5200.21
        ],
        [
         5,
         "Person5_first",
         "Person5_last",
         "2024-02-24",
         "MSFT",
         506.54
        ],
        [
         5,
         "Person5_first",
         "Person5_last",
         "2024-02-23",
         "MSFT",
         505.53
        ],
        [
         5,
         "Person5_first",
         "Person5_last",
         "2024-02-22",
         "MSFT",
         504.52
        ],
        [
         5,
         "Person5_first",
         "Person5_last",
         "2024-02-21",
         "MSFT",
         503.51
        ],
        [
         5,
         "Person5_first",
         "Person5_last",
         "2024-02-20",
         "MSFT",
         502.82
        ],
        [
         5,
         "Person5_first",
         "Person5_last",
         "2024-02-19",
         "MSFT",
         501.48
        ],
        [
         5,
         "Person5_first",
         "Person5_last",
         "2024-02-18",
         "MSFT",
         500.21
        ],
        [
         5,
         "Person5_first",
         "Person5_last",
         "2024-02-24",
         "GOOGL",
         3506.54
        ],
        [
         5,
         "Person5_first",
         "Person5_last",
         "2024-02-23",
         "GOOGL",
         3505.53
        ],
        [
         5,
         "Person5_first",
         "Person5_last",
         "2024-02-22",
         "GOOGL",
         3504.52
        ],
        [
         5,
         "Person5_first",
         "Person5_last",
         "2024-02-21",
         "GOOGL",
         3503.51
        ],
        [
         5,
         "Person5_first",
         "Person5_last",
         "2024-02-20",
         "GOOGL",
         3502.82
        ],
        [
         5,
         "Person5_first",
         "Person5_last",
         "2024-02-19",
         "GOOGL",
         3501.48
        ],
        [
         5,
         "Person5_first",
         "Person5_last",
         "2024-02-18",
         "GOOGL",
         3500.21
        ]
       ],
       "datasetInfos": [],
       "dbfsResultPath": null,
       "isJsonSchema": true,
       "metadata": {},
       "overflow": false,
       "plotOptions": {
        "customPlotOptions": {},
        "displayType": "table",
        "pivotAggregation": null,
        "pivotColumns": null,
        "xColumns": null,
        "yColumns": null
       },
       "removedWidgets": [],
       "schema": [
        {
         "metadata": "{}",
         "name": "client_id",
         "type": "\"integer\""
        },
        {
         "metadata": "{}",
         "name": "first_name",
         "type": "\"string\""
        },
        {
         "metadata": "{}",
         "name": "last_name",
         "type": "\"string\""
        },
        {
         "metadata": "{}",
         "name": "Date",
         "type": "\"string\""
        },
        {
         "metadata": "{}",
         "name": "stock",
         "type": "\"string\""
        },
        {
         "metadata": "{}",
         "name": "price",
         "type": "\"double\""
        }
       ],
       "type": "table"
      }
     },
     "output_type": "display_data"
    }
   ],
   "source": [
    "df_collateral_status = spark.read.format('delta').load('dbfs:/mnt/gold/collateral_status')\n",
    "df_collateral_status.display()"
   ]
  }
 ],
 "metadata": {
  "application/vnd.databricks.v1+notebook": {
   "dashboards": [],
   "language": "python",
   "notebookMetadata": {
    "pythonIndentUnit": 4
   },
   "notebookName": "Collateral status output verification",
   "widgets": {}
  }
 },
 "nbformat": 4,
 "nbformat_minor": 0
}
